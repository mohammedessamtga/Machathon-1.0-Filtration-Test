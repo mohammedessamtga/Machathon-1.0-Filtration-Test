{
  "nbformat": 4,
  "nbformat_minor": 0,
  "metadata": {
    "colab": {
      "name": "Mackathon.ipynb",
      "provenance": [],
      "collapsed_sections": []
    },
    "kernelspec": {
      "name": "python3",
      "display_name": "Python 3"
    },
    "accelerator": "GPU"
  },
  "cells": [
    {
      "cell_type": "code",
      "metadata": {
        "id": "JpqXTOa9atZH",
        "colab_type": "code",
        "outputId": "80182b87-952e-4307-d401-e9b266bc4548",
        "colab": {
          "base_uri": "https://localhost:8080/",
          "height": 406
        }
      },
      "source": [
        "!pip uninstall -y kaggle \n",
        "!pip install kaggle==1.5.6\n",
        "%env KAGGLE_USERNAME =#################\n",
        "%env KAGGLE_KEY =######################\n",
        "!kaggle competitions download -c machathon-10-filteration-test\n",
        "!unzip /content/machathon-10-filteration-test.zip\n"
      ],
      "execution_count": 0,
      "outputs": [
        {
          "output_type": "stream",
          "text": [
            "Uninstalling kaggle-1.5.6:\n",
            "  Successfully uninstalled kaggle-1.5.6\n",
            "Processing /root/.cache/pip/wheels/57/4e/e8/bb28d035162fb8f17f8ca5d42c3230e284c6aa565b42b72674/kaggle-1.5.6-cp36-none-any.whl\n",
            "Requirement already satisfied: requests in /usr/local/lib/python3.6/dist-packages (from kaggle==1.5.6) (2.21.0)\n",
            "Requirement already satisfied: certifi in /usr/local/lib/python3.6/dist-packages (from kaggle==1.5.6) (2019.11.28)\n",
            "Requirement already satisfied: urllib3<1.25,>=1.21.1 in /usr/local/lib/python3.6/dist-packages (from kaggle==1.5.6) (1.24.3)\n",
            "Requirement already satisfied: tqdm in /usr/local/lib/python3.6/dist-packages (from kaggle==1.5.6) (4.28.1)\n",
            "Requirement already satisfied: python-dateutil in /usr/local/lib/python3.6/dist-packages (from kaggle==1.5.6) (2.6.1)\n",
            "Requirement already satisfied: six>=1.10 in /usr/local/lib/python3.6/dist-packages (from kaggle==1.5.6) (1.12.0)\n",
            "Requirement already satisfied: python-slugify in /usr/local/lib/python3.6/dist-packages (from kaggle==1.5.6) (4.0.0)\n",
            "Requirement already satisfied: chardet<3.1.0,>=3.0.2 in /usr/local/lib/python3.6/dist-packages (from requests->kaggle==1.5.6) (3.0.4)\n",
            "Requirement already satisfied: idna<2.9,>=2.5 in /usr/local/lib/python3.6/dist-packages (from requests->kaggle==1.5.6) (2.8)\n",
            "Requirement already satisfied: text-unidecode>=1.3 in /usr/local/lib/python3.6/dist-packages (from python-slugify->kaggle==1.5.6) (1.3)\n",
            "Installing collected packages: kaggle\n",
            "Successfully installed kaggle-1.5.6\n",
            "env: KAGGLE_USERNAME=mohammedessam97\n",
            "env: KAGGLE_KEY=9abd3476de1b0e137c627a70ba1a556b\n",
            "machathon-10-filteration-test.zip: Skipping, found more recently modified local copy (use --force to force download)\n",
            "Archive:  /content/machathon-10-filteration-test.zip\n",
            "  inflating: sample_submission.csv   \n",
            "  inflating: test.csv                \n",
            "  inflating: train.csv               \n"
          ],
          "name": "stdout"
        }
      ]
    },
    {
      "cell_type": "code",
      "metadata": {
        "id": "KWRyks_acSxa",
        "colab_type": "code",
        "colab": {}
      },
      "source": [
        "import pandas as pd \n",
        "import numpy as np \n",
        "\n",
        "data = pd.read_csv(\"/content/train.csv\")"
      ],
      "execution_count": 0,
      "outputs": []
    },
    {
      "cell_type": "code",
      "metadata": {
        "id": "yD4LbMEscf6f",
        "colab_type": "code",
        "outputId": "df9423bc-c247-4f4c-bafc-1478b7464b55",
        "colab": {
          "base_uri": "https://localhost:8080/",
          "height": 304
        }
      },
      "source": [
        "data.describe()"
      ],
      "execution_count": 0,
      "outputs": [
        {
          "output_type": "execute_result",
          "data": {
            "text/html": [
              "<div>\n",
              "<style scoped>\n",
              "    .dataframe tbody tr th:only-of-type {\n",
              "        vertical-align: middle;\n",
              "    }\n",
              "\n",
              "    .dataframe tbody tr th {\n",
              "        vertical-align: top;\n",
              "    }\n",
              "\n",
              "    .dataframe thead th {\n",
              "        text-align: right;\n",
              "    }\n",
              "</style>\n",
              "<table border=\"1\" class=\"dataframe\">\n",
              "  <thead>\n",
              "    <tr style=\"text-align: right;\">\n",
              "      <th></th>\n",
              "      <th>Unnamed: 0</th>\n",
              "      <th>WellID</th>\n",
              "      <th>FirstMonthOil</th>\n",
              "      <th>FirstMonthGas</th>\n",
              "      <th>FirstMonthRatioGasOil</th>\n",
              "      <th>FirstMonthWater</th>\n",
              "      <th>firstMonthPercentWater</th>\n",
              "      <th>FirstMonthDaysOn</th>\n",
              "      <th>SecondMonthOil</th>\n",
              "      <th>SecondMonthGas</th>\n",
              "      <th>SecondMonthRatioGasOil</th>\n",
              "      <th>SecondMonthWater</th>\n",
              "      <th>SecondMonthPercentWater</th>\n",
              "      <th>SecondMonthDaysOn</th>\n",
              "      <th>ThirdMonthOil</th>\n",
              "      <th>ThirdMonthGas</th>\n",
              "      <th>ThirdMonthRatioGasOil</th>\n",
              "      <th>ThirdMonthWater</th>\n",
              "      <th>ThirdMonthPercentWater</th>\n",
              "      <th>ThirdMonthDaysOn</th>\n",
              "      <th>FourthMonthOil</th>\n",
              "      <th>FourthMonthGas</th>\n",
              "      <th>FourthMonthRatioGasOil</th>\n",
              "      <th>FourthMonthWater</th>\n",
              "      <th>FourthMonthPercentWater</th>\n",
              "      <th>FourthMonthDaysOn</th>\n",
              "      <th>FifthMonthOil</th>\n",
              "      <th>FifthMonthGas</th>\n",
              "      <th>FifthMonthRatioGasOil</th>\n",
              "      <th>FifthMonthWater</th>\n",
              "      <th>FifthMonthPercentWater</th>\n",
              "      <th>FifthMonthDaysOn</th>\n",
              "      <th>SixthMonthOil</th>\n",
              "      <th>SixthMonthGas</th>\n",
              "      <th>SixthMonthRatioGasOil</th>\n",
              "      <th>SixthMonthWater</th>\n",
              "      <th>SixthMonthPercentWater</th>\n",
              "      <th>SixthMonthDaysOn</th>\n",
              "      <th>TotalOilInNext6Months</th>\n",
              "      <th>TotalGasInNext6Months</th>\n",
              "    </tr>\n",
              "  </thead>\n",
              "  <tbody>\n",
              "    <tr>\n",
              "      <th>count</th>\n",
              "      <td>9324.000000</td>\n",
              "      <td>9324.000000</td>\n",
              "      <td>9324.000000</td>\n",
              "      <td>9324.000000</td>\n",
              "      <td>9324.000000</td>\n",
              "      <td>9.324000e+03</td>\n",
              "      <td>9324.000000</td>\n",
              "      <td>9324.000000</td>\n",
              "      <td>9324.000000</td>\n",
              "      <td>9324.000000</td>\n",
              "      <td>9324.000000</td>\n",
              "      <td>9.324000e+03</td>\n",
              "      <td>9324.000000</td>\n",
              "      <td>9324.000000</td>\n",
              "      <td>9324.000000</td>\n",
              "      <td>9324.000000</td>\n",
              "      <td>9324.000000</td>\n",
              "      <td>9.324000e+03</td>\n",
              "      <td>9324.000000</td>\n",
              "      <td>9324.000000</td>\n",
              "      <td>9324.000000</td>\n",
              "      <td>9324.000000</td>\n",
              "      <td>9324.000000</td>\n",
              "      <td>9324.000000</td>\n",
              "      <td>9324.000000</td>\n",
              "      <td>9324.000000</td>\n",
              "      <td>9324.000000</td>\n",
              "      <td>9324.000000</td>\n",
              "      <td>9324.000000</td>\n",
              "      <td>9324.000000</td>\n",
              "      <td>9324.000000</td>\n",
              "      <td>9324.000000</td>\n",
              "      <td>9324.000000</td>\n",
              "      <td>9324.000000</td>\n",
              "      <td>9324.000000</td>\n",
              "      <td>9324.000000</td>\n",
              "      <td>9324.000000</td>\n",
              "      <td>9324.000000</td>\n",
              "      <td>9324.000000</td>\n",
              "      <td>9.324000e+03</td>\n",
              "    </tr>\n",
              "    <tr>\n",
              "      <th>mean</th>\n",
              "      <td>6643.341270</td>\n",
              "      <td>8258.919884</td>\n",
              "      <td>10975.998391</td>\n",
              "      <td>23654.428142</td>\n",
              "      <td>36.483768</td>\n",
              "      <td>7.050517e+03</td>\n",
              "      <td>0.793089</td>\n",
              "      <td>19.624303</td>\n",
              "      <td>7361.601459</td>\n",
              "      <td>19751.486808</td>\n",
              "      <td>71.088354</td>\n",
              "      <td>3.985776e+03</td>\n",
              "      <td>0.719347</td>\n",
              "      <td>19.085800</td>\n",
              "      <td>5917.555019</td>\n",
              "      <td>17147.918168</td>\n",
              "      <td>22.511987</td>\n",
              "      <td>3.263830e+03</td>\n",
              "      <td>0.719102</td>\n",
              "      <td>18.774346</td>\n",
              "      <td>5206.465251</td>\n",
              "      <td>15410.326362</td>\n",
              "      <td>11.778866</td>\n",
              "      <td>2982.964715</td>\n",
              "      <td>0.733901</td>\n",
              "      <td>18.914200</td>\n",
              "      <td>4615.480266</td>\n",
              "      <td>14014.701952</td>\n",
              "      <td>25.640350</td>\n",
              "      <td>2715.161090</td>\n",
              "      <td>0.739190</td>\n",
              "      <td>18.994316</td>\n",
              "      <td>4239.232947</td>\n",
              "      <td>12985.894466</td>\n",
              "      <td>21.405811</td>\n",
              "      <td>2551.490562</td>\n",
              "      <td>0.763946</td>\n",
              "      <td>19.130309</td>\n",
              "      <td>19742.820249</td>\n",
              "      <td>6.355971e+04</td>\n",
              "    </tr>\n",
              "    <tr>\n",
              "      <th>std</th>\n",
              "      <td>3831.699502</td>\n",
              "      <td>4446.182863</td>\n",
              "      <td>8091.976505</td>\n",
              "      <td>35067.286099</td>\n",
              "      <td>891.599302</td>\n",
              "      <td>1.800020e+04</td>\n",
              "      <td>5.943600</td>\n",
              "      <td>13.369777</td>\n",
              "      <td>5960.634208</td>\n",
              "      <td>30780.151750</td>\n",
              "      <td>1865.962676</td>\n",
              "      <td>1.440518e+04</td>\n",
              "      <td>3.212954</td>\n",
              "      <td>13.493335</td>\n",
              "      <td>4895.693768</td>\n",
              "      <td>27350.194074</td>\n",
              "      <td>507.117402</td>\n",
              "      <td>1.270589e+04</td>\n",
              "      <td>2.923105</td>\n",
              "      <td>13.504617</td>\n",
              "      <td>4342.544054</td>\n",
              "      <td>23895.626766</td>\n",
              "      <td>198.644846</td>\n",
              "      <td>11494.973825</td>\n",
              "      <td>3.796721</td>\n",
              "      <td>13.641073</td>\n",
              "      <td>3889.654536</td>\n",
              "      <td>21561.736081</td>\n",
              "      <td>734.585937</td>\n",
              "      <td>9831.307311</td>\n",
              "      <td>3.002129</td>\n",
              "      <td>13.670981</td>\n",
              "      <td>3618.018873</td>\n",
              "      <td>19470.328468</td>\n",
              "      <td>601.380057</td>\n",
              "      <td>8158.773532</td>\n",
              "      <td>3.272239</td>\n",
              "      <td>13.737993</td>\n",
              "      <td>15678.751814</td>\n",
              "      <td>9.197275e+04</td>\n",
              "    </tr>\n",
              "    <tr>\n",
              "      <th>min</th>\n",
              "      <td>3.000000</td>\n",
              "      <td>0.000000</td>\n",
              "      <td>0.000000</td>\n",
              "      <td>0.000000</td>\n",
              "      <td>0.000000</td>\n",
              "      <td>0.000000e+00</td>\n",
              "      <td>0.000000</td>\n",
              "      <td>0.000000</td>\n",
              "      <td>0.000000</td>\n",
              "      <td>0.000000</td>\n",
              "      <td>0.000000</td>\n",
              "      <td>0.000000e+00</td>\n",
              "      <td>0.000000</td>\n",
              "      <td>0.000000</td>\n",
              "      <td>0.000000</td>\n",
              "      <td>0.000000</td>\n",
              "      <td>0.000000</td>\n",
              "      <td>0.000000e+00</td>\n",
              "      <td>0.000000</td>\n",
              "      <td>0.000000</td>\n",
              "      <td>0.000000</td>\n",
              "      <td>0.000000</td>\n",
              "      <td>0.000000</td>\n",
              "      <td>0.000000</td>\n",
              "      <td>0.000000</td>\n",
              "      <td>0.000000</td>\n",
              "      <td>0.000000</td>\n",
              "      <td>0.000000</td>\n",
              "      <td>0.000000</td>\n",
              "      <td>0.000000</td>\n",
              "      <td>0.000000</td>\n",
              "      <td>0.000000</td>\n",
              "      <td>0.000000</td>\n",
              "      <td>0.000000</td>\n",
              "      <td>0.000000</td>\n",
              "      <td>0.000000</td>\n",
              "      <td>0.000000</td>\n",
              "      <td>0.000000</td>\n",
              "      <td>0.000000</td>\n",
              "      <td>0.000000e+00</td>\n",
              "    </tr>\n",
              "    <tr>\n",
              "      <th>25%</th>\n",
              "      <td>3327.500000</td>\n",
              "      <td>5222.750000</td>\n",
              "      <td>5140.500000</td>\n",
              "      <td>5928.000000</td>\n",
              "      <td>0.664069</td>\n",
              "      <td>0.000000e+00</td>\n",
              "      <td>0.000000</td>\n",
              "      <td>0.000000</td>\n",
              "      <td>3057.750000</td>\n",
              "      <td>4207.750000</td>\n",
              "      <td>0.671820</td>\n",
              "      <td>0.000000e+00</td>\n",
              "      <td>0.000000</td>\n",
              "      <td>0.000000</td>\n",
              "      <td>2415.250000</td>\n",
              "      <td>3606.750000</td>\n",
              "      <td>0.691011</td>\n",
              "      <td>0.000000e+00</td>\n",
              "      <td>0.000000</td>\n",
              "      <td>0.000000</td>\n",
              "      <td>2065.750000</td>\n",
              "      <td>3385.750000</td>\n",
              "      <td>0.685409</td>\n",
              "      <td>0.000000</td>\n",
              "      <td>0.000000</td>\n",
              "      <td>0.000000</td>\n",
              "      <td>1834.750000</td>\n",
              "      <td>3081.500000</td>\n",
              "      <td>0.689508</td>\n",
              "      <td>0.000000</td>\n",
              "      <td>0.000000</td>\n",
              "      <td>0.000000</td>\n",
              "      <td>1628.000000</td>\n",
              "      <td>2930.500000</td>\n",
              "      <td>0.702584</td>\n",
              "      <td>0.000000</td>\n",
              "      <td>0.000000</td>\n",
              "      <td>0.000000</td>\n",
              "      <td>8073.250000</td>\n",
              "      <td>1.690325e+04</td>\n",
              "    </tr>\n",
              "    <tr>\n",
              "      <th>50%</th>\n",
              "      <td>6675.500000</td>\n",
              "      <td>8546.500000</td>\n",
              "      <td>9281.000000</td>\n",
              "      <td>13158.000000</td>\n",
              "      <td>1.151556</td>\n",
              "      <td>4.115000e+03</td>\n",
              "      <td>0.345983</td>\n",
              "      <td>28.000000</td>\n",
              "      <td>6039.000000</td>\n",
              "      <td>10200.000000</td>\n",
              "      <td>1.257137</td>\n",
              "      <td>2.158500e+03</td>\n",
              "      <td>0.282594</td>\n",
              "      <td>28.000000</td>\n",
              "      <td>4860.000000</td>\n",
              "      <td>8482.000000</td>\n",
              "      <td>1.304684</td>\n",
              "      <td>1.554000e+03</td>\n",
              "      <td>0.258139</td>\n",
              "      <td>27.000000</td>\n",
              "      <td>4277.500000</td>\n",
              "      <td>7683.000000</td>\n",
              "      <td>1.325213</td>\n",
              "      <td>1297.000000</td>\n",
              "      <td>0.248840</td>\n",
              "      <td>28.000000</td>\n",
              "      <td>3768.500000</td>\n",
              "      <td>7011.500000</td>\n",
              "      <td>1.355228</td>\n",
              "      <td>1173.500000</td>\n",
              "      <td>0.250708</td>\n",
              "      <td>28.000000</td>\n",
              "      <td>3433.500000</td>\n",
              "      <td>6542.000000</td>\n",
              "      <td>1.412128</td>\n",
              "      <td>1077.000000</td>\n",
              "      <td>0.250451</td>\n",
              "      <td>28.000000</td>\n",
              "      <td>16437.000000</td>\n",
              "      <td>3.321850e+04</td>\n",
              "    </tr>\n",
              "    <tr>\n",
              "      <th>75%</th>\n",
              "      <td>9934.250000</td>\n",
              "      <td>11923.750000</td>\n",
              "      <td>15075.500000</td>\n",
              "      <td>26262.500000</td>\n",
              "      <td>2.745121</td>\n",
              "      <td>1.019175e+04</td>\n",
              "      <td>0.935886</td>\n",
              "      <td>30.000000</td>\n",
              "      <td>10172.250000</td>\n",
              "      <td>22444.250000</td>\n",
              "      <td>3.433525</td>\n",
              "      <td>5.748500e+03</td>\n",
              "      <td>0.789590</td>\n",
              "      <td>30.000000</td>\n",
              "      <td>8097.250000</td>\n",
              "      <td>19500.000000</td>\n",
              "      <td>3.734243</td>\n",
              "      <td>4.682250e+03</td>\n",
              "      <td>0.768735</td>\n",
              "      <td>30.000000</td>\n",
              "      <td>7175.250000</td>\n",
              "      <td>17762.750000</td>\n",
              "      <td>4.072924</td>\n",
              "      <td>4229.250000</td>\n",
              "      <td>0.754927</td>\n",
              "      <td>30.000000</td>\n",
              "      <td>6379.000000</td>\n",
              "      <td>16241.250000</td>\n",
              "      <td>4.288935</td>\n",
              "      <td>3912.500000</td>\n",
              "      <td>0.775836</td>\n",
              "      <td>31.000000</td>\n",
              "      <td>5938.250000</td>\n",
              "      <td>15021.750000</td>\n",
              "      <td>4.593442</td>\n",
              "      <td>3674.250000</td>\n",
              "      <td>0.797680</td>\n",
              "      <td>31.000000</td>\n",
              "      <td>27737.500000</td>\n",
              "      <td>7.100925e+04</td>\n",
              "    </tr>\n",
              "    <tr>\n",
              "      <th>max</th>\n",
              "      <td>13283.000000</td>\n",
              "      <td>17999.000000</td>\n",
              "      <td>64499.000000</td>\n",
              "      <td>476177.000000</td>\n",
              "      <td>55789.500000</td>\n",
              "      <td>1.451478e+06</td>\n",
              "      <td>527.666667</td>\n",
              "      <td>31.000000</td>\n",
              "      <td>54790.000000</td>\n",
              "      <td>481633.000000</td>\n",
              "      <td>115698.000000</td>\n",
              "      <td>1.226836e+06</td>\n",
              "      <td>169.292402</td>\n",
              "      <td>31.000000</td>\n",
              "      <td>52654.000000</td>\n",
              "      <td>395168.000000</td>\n",
              "      <td>36268.000000</td>\n",
              "      <td>1.100392e+06</td>\n",
              "      <td>141.005923</td>\n",
              "      <td>31.000000</td>\n",
              "      <td>46940.000000</td>\n",
              "      <td>384468.000000</td>\n",
              "      <td>15176.266667</td>\n",
              "      <td>970001.000000</td>\n",
              "      <td>215.562500</td>\n",
              "      <td>31.000000</td>\n",
              "      <td>36534.000000</td>\n",
              "      <td>361151.000000</td>\n",
              "      <td>53048.000000</td>\n",
              "      <td>825349.000000</td>\n",
              "      <td>129.594937</td>\n",
              "      <td>31.000000</td>\n",
              "      <td>39832.000000</td>\n",
              "      <td>329776.000000</td>\n",
              "      <td>45804.250000</td>\n",
              "      <td>649898.000000</td>\n",
              "      <td>147.000000</td>\n",
              "      <td>31.000000</td>\n",
              "      <td>203364.000000</td>\n",
              "      <td>1.169180e+06</td>\n",
              "    </tr>\n",
              "  </tbody>\n",
              "</table>\n",
              "</div>"
            ],
            "text/plain": [
              "         Unnamed: 0        WellID  ...  TotalOilInNext6Months  TotalGasInNext6Months\n",
              "count   9324.000000   9324.000000  ...            9324.000000           9.324000e+03\n",
              "mean    6643.341270   8258.919884  ...           19742.820249           6.355971e+04\n",
              "std     3831.699502   4446.182863  ...           15678.751814           9.197275e+04\n",
              "min        3.000000      0.000000  ...               0.000000           0.000000e+00\n",
              "25%     3327.500000   5222.750000  ...            8073.250000           1.690325e+04\n",
              "50%     6675.500000   8546.500000  ...           16437.000000           3.321850e+04\n",
              "75%     9934.250000  11923.750000  ...           27737.500000           7.100925e+04\n",
              "max    13283.000000  17999.000000  ...          203364.000000           1.169180e+06\n",
              "\n",
              "[8 rows x 40 columns]"
            ]
          },
          "metadata": {
            "tags": []
          },
          "execution_count": 45
        }
      ]
    },
    {
      "cell_type": "code",
      "metadata": {
        "id": "ZFngWhbbgOZP",
        "colab_type": "code",
        "outputId": "045b0a25-156a-4933-dd0d-74ccd950656e",
        "colab": {
          "base_uri": "https://localhost:8080/",
          "height": 34
        }
      },
      "source": [
        "np.shape(data)"
      ],
      "execution_count": 0,
      "outputs": [
        {
          "output_type": "execute_result",
          "data": {
            "text/plain": [
              "(9324, 40)"
            ]
          },
          "metadata": {
            "tags": []
          },
          "execution_count": 46
        }
      ]
    },
    {
      "cell_type": "code",
      "metadata": {
        "id": "bpD8JBEfgXNN",
        "colab_type": "code",
        "outputId": "4364c9a1-1085-46aa-c069-583b7946b34d",
        "colab": {
          "base_uri": "https://localhost:8080/",
          "height": 34
        }
      },
      "source": [
        "Y = data['TotalOilInNext6Months']\n",
        "np.shape(Y)"
      ],
      "execution_count": 0,
      "outputs": [
        {
          "output_type": "execute_result",
          "data": {
            "text/plain": [
              "(9324,)"
            ]
          },
          "metadata": {
            "tags": []
          },
          "execution_count": 48
        }
      ]
    },
    {
      "cell_type": "code",
      "metadata": {
        "id": "ML72gTWTjmpi",
        "colab_type": "code",
        "colab": {}
      },
      "source": [
        "Total_Oil = data['FirstMonthOil']+data['SecondMonthOil']+data['ThirdMonthOil']+data['FourthMonthOil']+data['FifthMonthOil']+data['SixthMonthOil']\n",
        "Total_Gas = data['FirstMonthGas']+data['SecondMonthGas']+data['ThirdMonthGas']+data['FourthMonthGas']+data['FifthMonthGas']+data['SixthMonthGas']\n",
        "Gas_Oil_ratio = data['FirstMonthRatioGasOil']+data['SecondMonthRatioGasOil']+data['ThirdMonthRatioGasOil']+data['FourthMonthRatioGasOil']+data['FifthMonthRatioGasOil']+data['SixthMonthRatioGasOil']\n",
        "Total_Water = data['FirstMonthWater'] + data['SecondMonthWater'] + data['ThirdMonthWater'] + data['FourthMonthWater'] + data['FifthMonthWater'] + data['SixthMonthWater']\n",
        "Total_Percent_Water = data['firstMonthPercentWater'] + data['SecondMonthPercentWater'] + data['ThirdMonthPercentWater'] + data['FourthMonthPercentWater'] + data['FifthMonthPercentWater'] + data['SixthMonthPercentWater']\n",
        "Total_Days_On = data['FirstMonthDaysOn'] + data['SecondMonthDaysOn'] + data['ThirdMonthDaysOn'] + data['FourthMonthDaysOn'] + data['FifthMonthDaysOn'] + data['SixthMonthDaysOn']"
      ],
      "execution_count": 0,
      "outputs": []
    },
    {
      "cell_type": "code",
      "metadata": {
        "id": "Sb7E2LkSxgUp",
        "colab_type": "code",
        "colab": {}
      },
      "source": [
        "def PreProcessing(data):\n",
        "    Total_Oil = data['FirstMonthOil']+data['SecondMonthOil']+data['ThirdMonthOil']+data['FourthMonthOil']+data['FifthMonthOil']+data['SixthMonthOil']\n",
        "    Total_Gas = data['FirstMonthGas']+data['SecondMonthGas']+data['ThirdMonthGas']+data['FourthMonthGas']+data['FifthMonthGas']+data['SixthMonthGas']\n",
        "    Gas_Oil_ratio = data['FirstMonthRatioGasOil']+data['SecondMonthRatioGasOil']+data['ThirdMonthRatioGasOil']+data['FourthMonthRatioGasOil']+data['FifthMonthRatioGasOil']+data['SixthMonthRatioGasOil']\n",
        "    Total_Water = data['FirstMonthWater'] + data['SecondMonthWater'] + data['ThirdMonthWater'] + data['FourthMonthWater'] + data['FifthMonthWater'] + data['SixthMonthWater']\n",
        "    Total_Percent_Water = data['firstMonthPercentWater'] + data['SecondMonthPercentWater'] + data['ThirdMonthPercentWater'] + data['FourthMonthPercentWater'] + data['FifthMonthPercentWater'] + data['SixthMonthPercentWater']\n",
        "    Total_Days_On = data['FirstMonthDaysOn'] + data['SecondMonthDaysOn'] + data['ThirdMonthDaysOn'] + data['FourthMonthDaysOn'] + data['FifthMonthDaysOn'] + data['SixthMonthDaysOn']\n",
        "    Total_Oil = pd.Series(Total_Oil)\n",
        "    Total_Gas = pd.Series(Total_Oil)\n",
        "    Gas_Oil_ratio = pd.Series(Gas_Oil_ratio)\n",
        "    Total_Water = pd.Series(Total_Water)\n",
        "    Total_Percent_Water = pd.Series(Total_Percent_Water)\n",
        "    Total_Days_On = pd.Series(Total_Days_On)\n",
        "    X = {'WellID':data['WellID'],'Total_oil':Total_Oil,'Total_gas':Total_Gas,'Gas_Oil_ratio':Gas_Oil_ratio,'Total_Water':Total_Water,'Total_Water_Percentage':Total_Percent_Water,'Total_Days_On':Total_Days_On,\"Total Gas Next\":data['TotalGasInNext6Months']}\n",
        "    X = pd.DataFrame(X)\n",
        "    return X"
      ],
      "execution_count": 0,
      "outputs": []
    },
    {
      "cell_type": "code",
      "metadata": {
        "id": "MRe7nW495DRs",
        "colab_type": "code",
        "colab": {}
      },
      "source": [
        "def PreProcessing_train(data):\n",
        "    Total_Oil = data['FirstMonthOil']+data['SecondMonthOil']+data['ThirdMonthOil']+data['FourthMonthOil']+data['FifthMonthOil']+data['SixthMonthOil']\n",
        "    Total_Gas = data['FirstMonthGas']+data['SecondMonthGas']+data['ThirdMonthGas']+data['FourthMonthGas']+data['FifthMonthGas']+data['SixthMonthGas']\n",
        "    Gas_Oil_ratio = data['FirstMonthRatioGasOil']+data['SecondMonthRatioGasOil']+data['ThirdMonthRatioGasOil']+data['FourthMonthRatioGasOil']+data['FifthMonthRatioGasOil']+data['SixthMonthRatioGasOil']\n",
        "    Total_Water = data['FirstMonthWater'] + data['SecondMonthWater'] + data['ThirdMonthWater'] + data['FourthMonthWater'] + data['FifthMonthWater'] + data['SixthMonthWater']\n",
        "    Total_Percent_Water = data['firstMonthPercentWater'] + data['SecondMonthPercentWater'] + data['ThirdMonthPercentWater'] + data['FourthMonthPercentWater'] + data['FifthMonthPercentWater'] + data['SixthMonthPercentWater']\n",
        "    Total_Days_On = data['FirstMonthDaysOn'] + data['SecondMonthDaysOn'] + data['ThirdMonthDaysOn'] + data['FourthMonthDaysOn'] + data['FifthMonthDaysOn'] + data['SixthMonthDaysOn']\n",
        "    Total_Oil = pd.Series(Total_Oil)\n",
        "    Total_Gas = pd.Series(Total_Oil)\n",
        "    Gas_Oil_ratio = pd.Series(Gas_Oil_ratio)\n",
        "    Total_Water = pd.Series(Total_Water)\n",
        "    Total_Percent_Water = pd.Series(Total_Percent_Water)\n",
        "    Total_Days_On = pd.Series(Total_Days_On)\n",
        "    X = {'WellID':data['WellID'],'Total_oil':Total_Oil,'Total_gas':Total_Gas,'Gas_Oil_ratio':Gas_Oil_ratio,'Total_Water':Total_Water,'Total_Water_Percentage':Total_Percent_Water,'Total_Days_On':Total_Days_On,\"Total Gas Next\":data['TotalGasInNext6Months'],\"Label\":Y}\n",
        "    X = pd.DataFrame(X)\n",
        "    return X"
      ],
      "execution_count": 0,
      "outputs": []
    },
    {
      "cell_type": "code",
      "metadata": {
        "id": "IOx0rJuzl6LW",
        "colab_type": "code",
        "colab": {}
      },
      "source": [
        "train = PreProcessing_train(X)\n",
        "print(train.corr())"
      ],
      "execution_count": 0,
      "outputs": []
    },
    {
      "cell_type": "code",
      "metadata": {
        "id": "74p92Q1rGeOy",
        "colab_type": "code",
        "outputId": "e24c6033-8fb2-49a0-8d59-052e0eff44b0",
        "colab": {
          "base_uri": "https://localhost:8080/",
          "height": 34
        }
      },
      "source": [
        "from sklearn.svm import SVR\n",
        "clf = SVR(C=0.0001, epsilon=0.8)\n",
        "clf.fit(X_train, y_train)\n",
        "prds = clf.predict(X_test)\n",
        "print(mean_absolute_error(y_test,prds))"
      ],
      "execution_count": 0,
      "outputs": [
        {
          "output_type": "stream",
          "text": [
            "11740.0879061827\n"
          ],
          "name": "stdout"
        }
      ]
    },
    {
      "cell_type": "code",
      "metadata": {
        "id": "MwdGxthlG25W",
        "colab_type": "code",
        "outputId": "65b5acbc-ff87-48ec-deca-2d2f10fecc02",
        "colab": {
          "base_uri": "https://localhost:8080/",
          "height": 34
        }
      },
      "source": [
        ""
      ],
      "execution_count": 0,
      "outputs": [
        {
          "output_type": "execute_result",
          "data": {
            "text/plain": [
              "(9324,)"
            ]
          },
          "metadata": {
            "tags": []
          },
          "execution_count": 109
        }
      ]
    },
    {
      "cell_type": "markdown",
      "metadata": {
        "id": "ANLIijO-_DpY",
        "colab_type": "text"
      },
      "source": [
        "# Trying Linear Regression "
      ]
    },
    {
      "cell_type": "code",
      "metadata": {
        "id": "uK2-Orpjx49h",
        "colab_type": "code",
        "colab": {}
      },
      "source": [
        "from sklearn.linear_model import LinearRegression\n",
        "from sklearn.model_selection import train_test_split\n",
        "np.random.seed(42)\n",
        "X_train, X_test, y_train, y_test = train_test_split(X, Y, test_size=0.2, random_state=42)\n"
      ],
      "execution_count": 0,
      "outputs": []
    },
    {
      "cell_type": "code",
      "metadata": {
        "id": "C6MgvFH0yONV",
        "colab_type": "code",
        "colab": {}
      },
      "source": [
        "reg = LinearRegression().fit(X_train,y_train)"
      ],
      "execution_count": 0,
      "outputs": []
    },
    {
      "cell_type": "code",
      "metadata": {
        "id": "L_8vhdRg-HMs",
        "colab_type": "code",
        "colab": {}
      },
      "source": [
        "from sklearn.preprocessing import PolynomialFeatures\n",
        "poly_features = PolynomialFeatures(degree=3)\n",
        "\n",
        "# transforms the existing features to higher degree features.\n",
        "X_train_poly = poly_features.fit_transform(X_train)\n",
        "\n",
        "# fit the transformed features to Linear Regression\n",
        "poly_model =LinearRegression()\n",
        "poly_model.fit(X_train_poly, y_train)\n",
        "\n",
        "# predicting on training data-set\n",
        "y_train_predicted = poly_model.predict(X_train_poly)\n",
        "\n",
        "# predicting on test data-set\n",
        "prediction = poly_model.predict(poly_features.fit_transform(X_test))\n",
        "mean_absolute_error(y_test,prediction)"
      ],
      "execution_count": 0,
      "outputs": []
    },
    {
      "cell_type": "code",
      "metadata": {
        "id": "9TZnx1OWyr_9",
        "colab_type": "code",
        "colab": {}
      },
      "source": [
        "prd = reg.predict(X_test)"
      ],
      "execution_count": 0,
      "outputs": []
    },
    {
      "cell_type": "code",
      "metadata": {
        "id": "2x_1g7mtywwf",
        "colab_type": "code",
        "outputId": "2dfc695b-a516-4b84-fbbb-28a0fc367a27",
        "colab": {
          "base_uri": "https://localhost:8080/",
          "height": 34
        }
      },
      "source": [
        "from sklearn.metrics import mean_absolute_error\n",
        "print(mean_absolute_error(y_test,prd))"
      ],
      "execution_count": 0,
      "outputs": [
        {
          "output_type": "stream",
          "text": [
            "4029.4293118076653\n"
          ],
          "name": "stdout"
        }
      ]
    },
    {
      "cell_type": "code",
      "metadata": {
        "id": "_3TSQLh9zoPB",
        "colab_type": "code",
        "colab": {}
      },
      "source": [
        "reg = LinearRegression().fit(X,Y)"
      ],
      "execution_count": 0,
      "outputs": []
    },
    {
      "cell_type": "code",
      "metadata": {
        "id": "i15yOihTz5SY",
        "colab_type": "code",
        "colab": {}
      },
      "source": [
        "test = pd.read_csv('/content/test.csv')\n",
        "#test = PreProcessing(test)"
      ],
      "execution_count": 0,
      "outputs": []
    },
    {
      "cell_type": "code",
      "metadata": {
        "id": "kE3mBmCL1S9C",
        "colab_type": "code",
        "outputId": "62410472-11ed-4ce4-9a3f-c956bbe9199e",
        "colab": {
          "base_uri": "https://localhost:8080/",
          "height": 34
        }
      },
      "source": [
        "np.shape(test)"
      ],
      "execution_count": 0,
      "outputs": [
        {
          "output_type": "execute_result",
          "data": {
            "text/plain": [
              "(3959, 39)"
            ]
          },
          "metadata": {
            "tags": []
          },
          "execution_count": 99
        }
      ]
    },
    {
      "cell_type": "code",
      "metadata": {
        "id": "POTGwjlXtUtE",
        "colab_type": "code",
        "colab": {}
      },
      "source": [
        "prds = reg.predict(test)"
      ],
      "execution_count": 0,
      "outputs": []
    },
    {
      "cell_type": "code",
      "metadata": {
        "id": "Gca-uulO1Zka",
        "colab_type": "code",
        "outputId": "6d19c52c-65d2-4ea8-842f-3b1dbd29bb39",
        "colab": {
          "base_uri": "https://localhost:8080/",
          "height": 34
        }
      },
      "source": [
        "np.shape(prds)"
      ],
      "execution_count": 0,
      "outputs": [
        {
          "output_type": "execute_result",
          "data": {
            "text/plain": [
              "(3959,)"
            ]
          },
          "metadata": {
            "tags": []
          },
          "execution_count": 101
        }
      ]
    },
    {
      "cell_type": "code",
      "metadata": {
        "id": "Mie4Bj0f1bed",
        "colab_type": "code",
        "colab": {}
      },
      "source": [
        "df = pd.DataFrame(list(zip(test['WellID'], prds)), \n",
        "               columns =['WellID', 'TotalOilInNext6Months']) \n",
        "df.to_csv('/content/drive/My Drive/submissionMack2.csv',index=False)"
      ],
      "execution_count": 0,
      "outputs": []
    },
    {
      "cell_type": "code",
      "metadata": {
        "id": "EK-GAoaV7abC",
        "colab_type": "code",
        "colab": {}
      },
      "source": [
        "Y = data['TotalOilInNext6Months']\n",
        "X = data.loc[:, data.columns != 'TotalOilInNext6Months']"
      ],
      "execution_count": 0,
      "outputs": []
    }
  ]
}